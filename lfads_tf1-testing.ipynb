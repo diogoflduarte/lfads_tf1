{
 "cells": [
  {
   "cell_type": "markdown",
   "metadata": {},
   "source": [
    "# Testing complex cell"
   ]
  },
  {
   "cell_type": "code",
   "execution_count": 1,
   "metadata": {},
   "outputs": [],
   "source": [
    "from customcells import ComplexCell\n",
    "from customcells import GRUCell\n",
    "import tensorflow as tf\n",
    "import numpy as np\n",
    "from helper_funcs import linear, DiagonalGaussianFromExisting\n",
    "\n",
    "%load_ext autoreload\n",
    "%autoreload 2"
   ]
  },
  {
   "cell_type": "code",
   "execution_count": 2,
   "metadata": {},
   "outputs": [],
   "source": [
    "tf.enable_eager_execution()"
   ]
  },
  {
   "cell_type": "code",
   "execution_count": 3,
   "metadata": {},
   "outputs": [],
   "source": [
    "# random inputs\n",
    "\n",
    "bs = 300\n",
    "dim = 10\n",
    "T = 10\n",
    "hps ={'gen_dim':10,\n",
    "     'con_dim':5,\n",
    "     'co_dim':2,\n",
    "     'factors_dim':5,\n",
    "     'ext_input_dim':0,\n",
    "     }\n",
    "\n",
    "\n",
    "complex_cell_inputs = tf.random.normal([bs, T, dim], mean=0.0, stddev=0.1, seed=10)\n",
    "tf.random.set_random_seed(10)"
   ]
  },
  {
   "cell_type": "code",
   "execution_count": 4,
   "metadata": {},
   "outputs": [],
   "source": [
    "#tf.reset_default_graph()\n",
    "comcell_state_dims = [hps['gen_dim'],\n",
    "                           hps['con_dim'],\n",
    "                           hps['co_dim'], # for the controller output means\n",
    "                           hps['co_dim'], # for the variances\n",
    "                           hps['co_dim'], # for the sampled controller output\n",
    "                           hps['factors_dim']]\n",
    "\n",
    "\n",
    "# construct the complexcell\n",
    "complexcell=ComplexCell(num_units_gen=hps['gen_dim'],\n",
    "                             num_units_con=hps['con_dim'],\n",
    "                             factors_dim=hps['factors_dim'],\n",
    "                             co_dim=hps['co_dim'],\n",
    "                             ext_input_dim=hps['ext_input_dim'],\n",
    "                             inject_ext_input_to_gen=True,\n",
    "                             run_type =0,\n",
    "                             keep_prob=1.0,\n",
    "                             #clip_value=hps['cell_clip_value']\n",
    "                             kernel_initializer=tf.constant_initializer(0.2),\n",
    "                        #bias_initializer=tf.zeros_initializer()\n",
    "                             )\n"
   ]
  },
  {
   "cell_type": "code",
   "execution_count": 5,
   "metadata": {},
   "outputs": [],
   "source": [
    "complexcell_init_state = tf.zeros([bs,sum(comcell_state_dims)]) + 1.0"
   ]
  },
  {
   "cell_type": "code",
   "execution_count": 6,
   "metadata": {},
   "outputs": [
    {
     "name": "stdout",
     "output_type": "stream",
     "text": [
      "(300, 10)\n"
     ]
    }
   ],
   "source": [
    "tf.random.set_random_seed(11)\n",
    "seq=[]\n",
    "for t in range(T):\n",
    "    seq.append(complex_cell_inputs[:,t,:])\n",
    "complex_outputs, complex_final_state =\\\n",
    "tf.nn.static_rnn(complexcell,\n",
    "                  inputs = seq,\n",
    "                  initial_state = complexcell_init_state,\n",
    "                  dtype=tf.float32)"
   ]
  },
  {
   "cell_type": "code",
   "execution_count": 7,
   "metadata": {},
   "outputs": [],
   "source": [
    "tf.random.set_random_seed(10)\n",
    "complex_outputs, complex_final_state =\\\n",
    "tf.nn.dynamic_rnn(complexcell,\n",
    "                  inputs = complex_cell_inputs,\n",
    "                  initial_state = complexcell_init_state,\n",
    "                  dtype=tf.float32)"
   ]
  },
  {
   "cell_type": "code",
   "execution_count": 8,
   "metadata": {},
   "outputs": [
    {
     "data": {
      "text/plain": [
       "<tf.Tensor: id=3583, shape=(), dtype=float32, numpy=2966.2678>"
      ]
     },
     "execution_count": 8,
     "metadata": {},
     "output_type": "execute_result"
    }
   ],
   "source": [
    "tf.reduce_sum(complex_final_state[:,:hps['gen_dim']])"
   ]
  },
  {
   "cell_type": "code",
   "execution_count": 9,
   "metadata": {},
   "outputs": [],
   "source": [
    "tf.random.set_random_seed(10)"
   ]
  },
  {
   "cell_type": "code",
   "execution_count": 10,
   "metadata": {},
   "outputs": [
    {
     "name": "stdout",
     "output_type": "stream",
     "text": [
      "(300, 2)\n"
     ]
    }
   ],
   "source": [
    "#tf.reset_default_graph()\n",
    "gen_s = [0] * T\n",
    "con_s = [0] * T\n",
    "fac_s = [0] * T\n",
    "\n",
    "gen_s[-1] = tf.zeros([bs,hps['gen_dim']]) + 1.0\n",
    "con_s[-1] = tf.zeros([bs,hps['con_dim']])+1.0\n",
    "fac_s[-1] = tf.zeros([bs,hps['factors_dim']]) + 1.0\n",
    "\n",
    "\n",
    "gencell = GRUCell(hps['gen_dim'], kernel_initializer=tf.constant_initializer(0.2))\n",
    "concell = GRUCell(hps['con_dim'], kernel_initializer=tf.constant_initializer(0.2))\n",
    "\n",
    "gg = tf.zeros([bs,hps['co_dim']]).get_shape()\n",
    "print(gg)\n",
    "gencell.build(gg)\n",
    "concell.build(tf.zeros([bs,hps['factors_dim']+dim]).get_shape() )\n",
    "\n",
    "\n",
    "for t in range(T):\n",
    "    # if external inputs are used split the inputs\n",
    "    if False:\n",
    "        pass\n",
    "    else:\n",
    "        con_i = complex_cell_inputs[:,t,:]\n",
    "\n",
    "    # split the state to get the gen and con states, and factors\n",
    "\n",
    "    # input to the controller is (enc_con output and factors)\n",
    "    # MRKT\n",
    "    # con_i = tf.zeros_like(con_i)\n",
    "    if hps['co_dim'] > 0:\n",
    "        # if controller is used\n",
    "        con_inputs = tf.concat([con_i, fac_s[t-1]], axis=1, )\n",
    "        # controller GRU recursion, get new state\n",
    "        # add dropout to controller inputs (MRK fix)\n",
    "        con_inputs = tf.nn.dropout(con_inputs, 1.0)\n",
    "        con_s[t],_ = concell.call(con_inputs, con_s[t-1])\n",
    "\n",
    "        # calculate the inputs to the generator\n",
    "        with tf.name_scope(\"con_2_gen\"):\n",
    "            # transformation to mean and logvar of the posterior\n",
    "            co_mean = linear(con_s[t], hps['co_dim'],\n",
    "                             name=\"con_2_gen_transform_mean\",\n",
    "                            mat_init_value=0.2)\n",
    "            co_logvar = linear(con_s[t], hps['co_dim'],\n",
    "                               name=\"con_2_gen_transform_logvar\",\n",
    "                              mat_init_value=0.2)\n",
    "\n",
    "            cos_posterior = DiagonalGaussianFromExisting(co_mean, co_logvar, name='co_posterior')\n",
    "            # whether to sample the posterior or pass its mean\n",
    "            # MRK, fixed the following\n",
    "            #do_posterior_sample = tf.logical_or(tf.equal(self._run_type, tf.constant(kind_dict(\"train\"))),\n",
    "            #                                    tf.equal(self._run_type,\n",
    "            #                                             tf.constant(kind_dict(\"posterior_sample_and_average\"))))\n",
    "            # co_out = tf.cond(do_posterior_sample, lambda: cos_posterior.sample, lambda: cos_posterior.mean)\n",
    "            # MRKT\n",
    "            co_out = cos_posterior.sample\n",
    "            #co_out = cos_posterior.mean\n",
    "            #co_out = co_mean\n",
    "    else:\n",
    "        # pass zeros (0-dim) as inputs to generator\n",
    "        co_out = tf.zeros([tf.shape(gen_s[t-1])[0], 0])\n",
    "        con_s_new = co_mean = co_logvar = tf.zeros([tf.shape(gen_s[t-1])[0], 0])\n",
    "\n",
    "    # generator's inputs\n",
    "    if 0 > 0 and 0:\n",
    "        # passing external inputs along with controller output as generator's input\n",
    "        gen_inputs = tf.concat([co_out, ext_inputs], axis=1)\n",
    "    elif 0 > 0 and 0:\n",
    "        assert 0, \"Not Implemented!\"\n",
    "    else:\n",
    "        # using only controller output as generator's input\n",
    "        gen_inputs = co_out\n",
    "\n",
    "    # generator GRU recursion, get the new state\n",
    "    #gen_inputs = tf.zeros_like(gen_inputs)\n",
    "    gen_s[t], _ = gencell.call(gen_inputs, gen_s[t-1])\n",
    "    # calculate the factors\n",
    "    with tf.variable_scope(\"gen_2_fac\"):\n",
    "        # add dropout to gen output (MRK fix)\n",
    "        gen_s_new_dropped = tf.nn.dropout(gen_s[t],1.0)\n",
    "        # MRK, make do_bias=False, and normalized the factors\n",
    "        fac_s[t] = linear(gen_s_new_dropped, hps['factors_dim'],\n",
    "                           name=\"gen_2_fac_transform\",\n",
    "                           do_bias=False,\n",
    "                           normalized=True,\n",
    "                          mat_init_value=0.2\n",
    "                           # collections=self.col_names['fac']\n",
    "                           )\n",
    "    # pass the states and make other values accessible outside DynamicRNN\n",
    "    #state_concat = [gen_s_new, con_s_new, co_mean, co_logvar, co_out, fac_s_new]\n",
    "    #new_h = tf.concat(state_concat, axis=1)\n"
   ]
  },
  {
   "cell_type": "code",
   "execution_count": 11,
   "metadata": {},
   "outputs": [
    {
     "data": {
      "text/plain": [
       "<tf.Tensor: id=5207, shape=(), dtype=float32, numpy=2966.2678>"
      ]
     },
     "execution_count": 11,
     "metadata": {},
     "output_type": "execute_result"
    }
   ],
   "source": [
    "tf.reduce_sum(gen_s[-1])"
   ]
  },
  {
   "cell_type": "code",
   "execution_count": null,
   "metadata": {},
   "outputs": [],
   "source": []
  },
  {
   "cell_type": "code",
   "execution_count": null,
   "metadata": {},
   "outputs": [],
   "source": []
  }
 ],
 "metadata": {
  "kernelspec": {
   "display_name": "Python 2",
   "language": "python",
   "name": "python2"
  },
  "language_info": {
   "codemirror_mode": {
    "name": "ipython",
    "version": 2
   },
   "file_extension": ".py",
   "mimetype": "text/x-python",
   "name": "python",
   "nbconvert_exporter": "python",
   "pygments_lexer": "ipython2",
   "version": "2.7.5"
  }
 },
 "nbformat": 4,
 "nbformat_minor": 2
}
